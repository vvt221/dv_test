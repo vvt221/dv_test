{
  "nbformat": 4,
  "nbformat_minor": 0,
  "metadata": {
    "colab": {
      "name": "dv_final1.ipynb",
      "version": "0.3.2",
      "provenance": []
    },
    "kernelspec": {
      "name": "python3",
      "display_name": "Python 3"
    }
  },
  "cells": [
    {
      "cell_type": "code",
      "metadata": {
        "id": "ufAmjhYpfnHP",
        "colab_type": "code",
        "colab": {}
      },
      "source": [
        "import pandas as pd\n",
        "from google.colab import files"
      ],
      "execution_count": 0,
      "outputs": []
    },
    {
      "cell_type": "code",
      "metadata": {
        "id": "LjlgdHqQfuju",
        "colab_type": "code",
        "colab": {}
      },
      "source": [
        "files.upload()"
      ],
      "execution_count": 0,
      "outputs": []
    },
    {
      "cell_type": "code",
      "metadata": {
        "id": "iBx6cIVTwTPA",
        "colab_type": "code",
        "outputId": "765edbc0-2815-4236-ab36-a9f7c84a1353",
        "colab": {
          "base_uri": "https://localhost:8080/",
          "height": 51
        }
      },
      "source": [
        "!ls"
      ],
      "execution_count": 0,
      "outputs": [
        {
          "output_type": "stream",
          "text": [
            "sample_data\t\t vehicle_events_pnas_dt.csv  vehicle_paths_pnas.zip\n",
            "vehicle_events_pnas.csv  vehicle_paths_pnas.csv\n"
          ],
          "name": "stdout"
        }
      ]
    },
    {
      "cell_type": "code",
      "metadata": {
        "id": "ucRLu0JCwUY4",
        "colab_type": "code",
        "outputId": "0e841af5-f76d-4d7f-e8df-d8010e12a4a3",
        "colab": {
          "base_uri": "https://localhost:8080/",
          "height": 51
        }
      },
      "source": [
        "!unzip vehicle_paths_pnas.zip"
      ],
      "execution_count": 0,
      "outputs": [
        {
          "output_type": "stream",
          "text": [
            "Archive:  vehicle_paths_pnas.zip\n",
            "  inflating: vehicle_paths_pnas.csv  \n"
          ],
          "name": "stdout"
        }
      ]
    },
    {
      "cell_type": "code",
      "metadata": {
        "id": "SOUtjxQTwYwS",
        "colab_type": "code",
        "outputId": "cf3b7f47-9724-4fd8-9305-909f68613da7",
        "colab": {
          "base_uri": "https://localhost:8080/",
          "height": 153
        }
      },
      "source": [
        "ll -h"
      ],
      "execution_count": 0,
      "outputs": [
        {
          "output_type": "stream",
          "text": [
            "total 184M\n",
            "-rw-r--r-- 1 root  11M Jul 29 16:13 requests.csv\n",
            "-rw-r--r-- 1 root  17M Jul 29 16:47 requests_dt_format.csv\n",
            "drwxr-xr-x 1 root 4.0K Jul 19 16:14 \u001b[0m\u001b[01;34msample_data\u001b[0m/\n",
            "-rw-r--r-- 1 root  21M Jul 29 16:54 vehicle_events_pnas.csv\n",
            "-rw-r--r-- 1 root  21M Jul 29 16:54 vehicle_events_pnas_dt.csv\n",
            "-rw-r--r-- 1 root  95M Jul 25 14:25 vehicle_paths_pnas.csv\n",
            "-rw-r--r-- 1 root  22M Jul 29 17:21 vehicle_paths_pnas.zip\n"
          ],
          "name": "stdout"
        }
      ]
    },
    {
      "cell_type": "code",
      "metadata": {
        "id": "xDdZ9dPWf9K-",
        "colab_type": "code",
        "colab": {}
      },
      "source": [
        "df = pd.read_csv('vehicle_paths_pnas.csv')"
      ],
      "execution_count": 0,
      "outputs": []
    },
    {
      "cell_type": "code",
      "metadata": {
        "id": "4J5cGmiHgk2D",
        "colab_type": "code",
        "outputId": "ad47a1fb-7b52-4f9e-df21-e3e4b5a1bc6f",
        "colab": {
          "base_uri": "https://localhost:8080/",
          "height": 204
        }
      },
      "source": [
        "df.head()"
      ],
      "execution_count": 0,
      "outputs": [
        {
          "output_type": "execute_result",
          "data": {
            "text/html": [
              "<div>\n",
              "<style scoped>\n",
              "    .dataframe tbody tr th:only-of-type {\n",
              "        vertical-align: middle;\n",
              "    }\n",
              "\n",
              "    .dataframe tbody tr th {\n",
              "        vertical-align: top;\n",
              "    }\n",
              "\n",
              "    .dataframe thead th {\n",
              "        text-align: right;\n",
              "    }\n",
              "</style>\n",
              "<table border=\"1\" class=\"dataframe\">\n",
              "  <thead>\n",
              "    <tr style=\"text-align: right;\">\n",
              "      <th></th>\n",
              "      <th>Timestamp</th>\n",
              "      <th>Vehicle_ID</th>\n",
              "      <th>Latitude</th>\n",
              "      <th>Longitude</th>\n",
              "      <th>Num_Passengers</th>\n",
              "    </tr>\n",
              "  </thead>\n",
              "  <tbody>\n",
              "    <tr>\n",
              "      <th>0</th>\n",
              "      <td>1380949230</td>\n",
              "      <td>137</td>\n",
              "      <td>40.73467</td>\n",
              "      <td>-73.99459</td>\n",
              "      <td>0</td>\n",
              "    </tr>\n",
              "    <tr>\n",
              "      <th>1</th>\n",
              "      <td>1380949230</td>\n",
              "      <td>321</td>\n",
              "      <td>40.78573</td>\n",
              "      <td>-73.97644</td>\n",
              "      <td>0</td>\n",
              "    </tr>\n",
              "    <tr>\n",
              "      <th>2</th>\n",
              "      <td>1380949230</td>\n",
              "      <td>428</td>\n",
              "      <td>40.78154</td>\n",
              "      <td>-73.96041</td>\n",
              "      <td>0</td>\n",
              "    </tr>\n",
              "    <tr>\n",
              "      <th>3</th>\n",
              "      <td>1380949231</td>\n",
              "      <td>148</td>\n",
              "      <td>40.73478</td>\n",
              "      <td>-73.99871</td>\n",
              "      <td>0</td>\n",
              "    </tr>\n",
              "    <tr>\n",
              "      <th>4</th>\n",
              "      <td>1380949231</td>\n",
              "      <td>148</td>\n",
              "      <td>40.73478</td>\n",
              "      <td>-73.99871</td>\n",
              "      <td>0</td>\n",
              "    </tr>\n",
              "  </tbody>\n",
              "</table>\n",
              "</div>"
            ],
            "text/plain": [
              "    Timestamp  Vehicle_ID  Latitude  Longitude  Num_Passengers\n",
              "0  1380949230         137  40.73467  -73.99459               0\n",
              "1  1380949230         321  40.78573  -73.97644               0\n",
              "2  1380949230         428  40.78154  -73.96041               0\n",
              "3  1380949231         148  40.73478  -73.99871               0\n",
              "4  1380949231         148  40.73478  -73.99871               0"
            ]
          },
          "metadata": {
            "tags": []
          },
          "execution_count": 35
        }
      ]
    },
    {
      "cell_type": "code",
      "metadata": {
        "id": "gVjMWt0dg29D",
        "colab_type": "code",
        "colab": {}
      },
      "source": [
        "from datetime import datetime"
      ],
      "execution_count": 0,
      "outputs": []
    },
    {
      "cell_type": "code",
      "metadata": {
        "id": "MHLaV_WehbJh",
        "colab_type": "code",
        "colab": {}
      },
      "source": [
        "df['Timestamp_dt'] = df['Timestamp'].apply(lambda x : datetime.fromtimestamp(x).strftime(\"%Y-%m-%d %H:%M:%S\"))"
      ],
      "execution_count": 0,
      "outputs": []
    },
    {
      "cell_type": "code",
      "metadata": {
        "id": "tTwPF73BiE7e",
        "colab_type": "code",
        "colab": {}
      },
      "source": [
        "df.drop(['Timestamp'],axis=1,inplace=True)"
      ],
      "execution_count": 0,
      "outputs": []
    },
    {
      "cell_type": "code",
      "metadata": {
        "id": "F6s66dm7iG9N",
        "colab_type": "code",
        "outputId": "5f492870-426e-42e3-e5f6-81e768be6c5d",
        "colab": {
          "base_uri": "https://localhost:8080/",
          "height": 204
        }
      },
      "source": [
        "df.head()"
      ],
      "execution_count": 0,
      "outputs": [
        {
          "output_type": "execute_result",
          "data": {
            "text/html": [
              "<div>\n",
              "<style scoped>\n",
              "    .dataframe tbody tr th:only-of-type {\n",
              "        vertical-align: middle;\n",
              "    }\n",
              "\n",
              "    .dataframe tbody tr th {\n",
              "        vertical-align: top;\n",
              "    }\n",
              "\n",
              "    .dataframe thead th {\n",
              "        text-align: right;\n",
              "    }\n",
              "</style>\n",
              "<table border=\"1\" class=\"dataframe\">\n",
              "  <thead>\n",
              "    <tr style=\"text-align: right;\">\n",
              "      <th></th>\n",
              "      <th>Vehicle_ID</th>\n",
              "      <th>Latitude</th>\n",
              "      <th>Longitude</th>\n",
              "      <th>Num_Passengers</th>\n",
              "      <th>Timestamp_dt</th>\n",
              "    </tr>\n",
              "  </thead>\n",
              "  <tbody>\n",
              "    <tr>\n",
              "      <th>0</th>\n",
              "      <td>137</td>\n",
              "      <td>40.73467</td>\n",
              "      <td>-73.99459</td>\n",
              "      <td>0</td>\n",
              "      <td>2013-10-05 05:00:30</td>\n",
              "    </tr>\n",
              "    <tr>\n",
              "      <th>1</th>\n",
              "      <td>321</td>\n",
              "      <td>40.78573</td>\n",
              "      <td>-73.97644</td>\n",
              "      <td>0</td>\n",
              "      <td>2013-10-05 05:00:30</td>\n",
              "    </tr>\n",
              "    <tr>\n",
              "      <th>2</th>\n",
              "      <td>428</td>\n",
              "      <td>40.78154</td>\n",
              "      <td>-73.96041</td>\n",
              "      <td>0</td>\n",
              "      <td>2013-10-05 05:00:30</td>\n",
              "    </tr>\n",
              "    <tr>\n",
              "      <th>3</th>\n",
              "      <td>148</td>\n",
              "      <td>40.73478</td>\n",
              "      <td>-73.99871</td>\n",
              "      <td>0</td>\n",
              "      <td>2013-10-05 05:00:31</td>\n",
              "    </tr>\n",
              "    <tr>\n",
              "      <th>4</th>\n",
              "      <td>148</td>\n",
              "      <td>40.73478</td>\n",
              "      <td>-73.99871</td>\n",
              "      <td>0</td>\n",
              "      <td>2013-10-05 05:00:31</td>\n",
              "    </tr>\n",
              "  </tbody>\n",
              "</table>\n",
              "</div>"
            ],
            "text/plain": [
              "   Vehicle_ID  Latitude  Longitude  Num_Passengers         Timestamp_dt\n",
              "0         137  40.73467  -73.99459               0  2013-10-05 05:00:30\n",
              "1         321  40.78573  -73.97644               0  2013-10-05 05:00:30\n",
              "2         428  40.78154  -73.96041               0  2013-10-05 05:00:30\n",
              "3         148  40.73478  -73.99871               0  2013-10-05 05:00:31\n",
              "4         148  40.73478  -73.99871               0  2013-10-05 05:00:31"
            ]
          },
          "metadata": {
            "tags": []
          },
          "execution_count": 51
        }
      ]
    },
    {
      "cell_type": "code",
      "metadata": {
        "id": "b0dWyxdGAcoU",
        "colab_type": "code",
        "colab": {}
      },
      "source": [
        "df.to_csv('mod_ts_vehicle_paths_pnas.csv')"
      ],
      "execution_count": 0,
      "outputs": []
    },
    {
      "cell_type": "code",
      "metadata": {
        "id": "g_5M7GwE2r-D",
        "colab_type": "code",
        "outputId": "45cdb74a-5d42-43b7-9455-e9ca72a110d2",
        "colab": {
          "base_uri": "https://localhost:8080/",
          "height": 34
        }
      },
      "source": [
        "df.shape"
      ],
      "execution_count": 0,
      "outputs": [
        {
          "output_type": "execute_result",
          "data": {
            "text/plain": [
              "(2639776, 5)"
            ]
          },
          "metadata": {
            "tags": []
          },
          "execution_count": 42
        }
      ]
    },
    {
      "cell_type": "code",
      "metadata": {
        "id": "tN9eSQwY3GE9",
        "colab_type": "code",
        "colab": {}
      },
      "source": [
        ""
      ],
      "execution_count": 0,
      "outputs": []
    },
    {
      "cell_type": "code",
      "metadata": {
        "id": "FkFVOhOo2lBe",
        "colab_type": "code",
        "colab": {}
      },
      "source": [
        "df_ge4 = df[df['Num_Passengers'] > 4]"
      ],
      "execution_count": 0,
      "outputs": []
    },
    {
      "cell_type": "code",
      "metadata": {
        "id": "U1XaXRH_3Mrq",
        "colab_type": "code",
        "colab": {}
      },
      "source": [
        "df_ge4_c = df_ge4[['Num_Passengers', 'Timestamp_dt']]"
      ],
      "execution_count": 0,
      "outputs": []
    },
    {
      "cell_type": "code",
      "metadata": {
        "id": "5JgPHcViiUUz",
        "colab_type": "code",
        "outputId": "5cc2f338-5231-4f45-8b00-8b0dd6a8f662",
        "colab": {
          "base_uri": "https://localhost:8080/",
          "height": 282
        }
      },
      "source": [
        "df_ge4_c.to_csv('vehicle_events_pnas_ge4.csv')"
      ],
      "execution_count": 0,
      "outputs": [
        {
          "output_type": "error",
          "ename": "AttributeError",
          "evalue": "ignored",
          "traceback": [
            "\u001b[0;31m---------------------------------------------------------------------------\u001b[0m",
            "\u001b[0;31mAttributeError\u001b[0m                            Traceback (most recent call last)",
            "\u001b[0;32m<ipython-input-50-1acccc2a46e6>\u001b[0m in \u001b[0;36m<module>\u001b[0;34m()\u001b[0m\n\u001b[0;32m----> 1\u001b[0;31m \u001b[0mdf_ge4_c\u001b[0m\u001b[0;34m.\u001b[0m\u001b[0mto_tsv\u001b[0m\u001b[0;34m(\u001b[0m\u001b[0;34m'vehicle_events_pnas_ge4.json'\u001b[0m\u001b[0;34m)\u001b[0m\u001b[0;34m\u001b[0m\u001b[0;34m\u001b[0m\u001b[0m\n\u001b[0m",
            "\u001b[0;32m/usr/local/lib/python3.6/dist-packages/pandas/core/generic.py\u001b[0m in \u001b[0;36m__getattr__\u001b[0;34m(self, name)\u001b[0m\n\u001b[1;32m   5065\u001b[0m             \u001b[0;32mif\u001b[0m \u001b[0mself\u001b[0m\u001b[0;34m.\u001b[0m\u001b[0m_info_axis\u001b[0m\u001b[0;34m.\u001b[0m\u001b[0m_can_hold_identifiers_and_holds_name\u001b[0m\u001b[0;34m(\u001b[0m\u001b[0mname\u001b[0m\u001b[0;34m)\u001b[0m\u001b[0;34m:\u001b[0m\u001b[0;34m\u001b[0m\u001b[0;34m\u001b[0m\u001b[0m\n\u001b[1;32m   5066\u001b[0m                 \u001b[0;32mreturn\u001b[0m \u001b[0mself\u001b[0m\u001b[0;34m[\u001b[0m\u001b[0mname\u001b[0m\u001b[0;34m]\u001b[0m\u001b[0;34m\u001b[0m\u001b[0;34m\u001b[0m\u001b[0m\n\u001b[0;32m-> 5067\u001b[0;31m             \u001b[0;32mreturn\u001b[0m \u001b[0mobject\u001b[0m\u001b[0;34m.\u001b[0m\u001b[0m__getattribute__\u001b[0m\u001b[0;34m(\u001b[0m\u001b[0mself\u001b[0m\u001b[0;34m,\u001b[0m \u001b[0mname\u001b[0m\u001b[0;34m)\u001b[0m\u001b[0;34m\u001b[0m\u001b[0;34m\u001b[0m\u001b[0m\n\u001b[0m\u001b[1;32m   5068\u001b[0m \u001b[0;34m\u001b[0m\u001b[0m\n\u001b[1;32m   5069\u001b[0m     \u001b[0;32mdef\u001b[0m \u001b[0m__setattr__\u001b[0m\u001b[0;34m(\u001b[0m\u001b[0mself\u001b[0m\u001b[0;34m,\u001b[0m \u001b[0mname\u001b[0m\u001b[0;34m,\u001b[0m \u001b[0mvalue\u001b[0m\u001b[0;34m)\u001b[0m\u001b[0;34m:\u001b[0m\u001b[0;34m\u001b[0m\u001b[0;34m\u001b[0m\u001b[0m\n",
            "\u001b[0;31mAttributeError\u001b[0m: 'DataFrame' object has no attribute 'to_tsv'"
          ]
        }
      ]
    },
    {
      "cell_type": "code",
      "metadata": {
        "id": "UjpoO38J3W74",
        "colab_type": "code",
        "outputId": "c603ea69-2ae8-4506-8aa6-623ca452fe15",
        "colab": {
          "base_uri": "https://localhost:8080/",
          "height": 170
        }
      },
      "source": [
        "ll -h"
      ],
      "execution_count": 0,
      "outputs": [
        {
          "output_type": "stream",
          "text": [
            "total 502M\n",
            "drwxr-xr-x 1 root 4.0K Jul 19 16:14 \u001b[0m\u001b[01;34msample_data\u001b[0m/\n",
            "-rw-r--r-- 1 root 9.6M Jul 29 22:20 vehicle_events_pnas.csv\n",
            "-rw-r--r-- 1 root 143M Jul 29 22:13 vehicle_events_pnas_dt.csv\n",
            "-rw-r--r-- 1 root 102M Jul 29 23:00 vehicle_events_pnas_ge4.csv\n",
            "-rw-r--r-- 1 root 102M Jul 29 23:00 vehicle_events_pnas_ge4.json\n",
            "-rw-r--r-- 1 root  31M Jul 29 22:22 vehicle_events_ts.zip\n",
            "-rw-r--r-- 1 root  95M Jul 25 14:25 vehicle_paths_pnas.csv\n",
            "-rw-r--r-- 1 root  22M Jul 29 22:06 vehicle_paths_pnas.zip\n"
          ],
          "name": "stdout"
        }
      ]
    },
    {
      "cell_type": "code",
      "metadata": {
        "id": "YZvZrK5Q03Ac",
        "colab_type": "code",
        "outputId": "edf3fd78-2939-4eae-f9fa-aec014087f20",
        "colab": {
          "base_uri": "https://localhost:8080/",
          "height": 34
        }
      },
      "source": [
        "!zip vehicle_events_ts.zip vehicle_events_pnas_dt.csv"
      ],
      "execution_count": 0,
      "outputs": [
        {
          "output_type": "stream",
          "text": [
            "  adding: vehicle_events_pnas_dt.csv (deflated 79%)\n"
          ],
          "name": "stdout"
        }
      ]
    },
    {
      "cell_type": "code",
      "metadata": {
        "id": "F5odte2QiYoD",
        "colab_type": "code",
        "colab": {}
      },
      "source": [
        "files.download('vehicle_events_ts.zip')"
      ],
      "execution_count": 0,
      "outputs": []
    },
    {
      "cell_type": "code",
      "metadata": {
        "id": "7RjyWmC-idaD",
        "colab_type": "code",
        "colab": {}
      },
      "source": [
        ""
      ],
      "execution_count": 0,
      "outputs": []
    }
  ]
}